{
 "cells": [
  {
   "cell_type": "code",
   "execution_count": 2,
   "metadata": {},
   "outputs": [],
   "source": [
    "from binance import Client\n",
    "import pandas as pd\n",
    "import numpy as np\n",
    "import mplfinance as mpl\n",
    "import mercury as mr\n",
    "import os\n",
    "from datetime import date, timedelta\n",
    "api_key = os.environ.get('api_key')\n",
    "secret_key = os.environ.get('secret_key')\n"
   ]
  },
  {
   "cell_type": "code",
   "execution_count": 3,
   "metadata": {},
   "outputs": [
    {
     "data": {
      "application/mercury+json": {
       "allow_download": true,
       "code_uid": "App.0.40.25.2-randf9563cb7",
       "continuous_update": true,
       "description": "Report financial data for selected cryptocurrency.",
       "full_screen": true,
       "model_id": "mercury-app",
       "notify": "{}",
       "output": "app",
       "schedule": "",
       "show_code": false,
       "show_prompt": false,
       "show_sidebar": true,
       "static_notebook": false,
       "stop_on_error": false,
       "title": "Crypto charts",
       "widget": "App"
      },
      "text/html": [
       "<h3>Mercury Application</h3><small>This output won't appear in the web app.</small>"
      ],
      "text/plain": [
       "mercury.App"
      ]
     },
     "metadata": {},
     "output_type": "display_data"
    }
   ],
   "source": [
    "client = Client(api_key, secret_key)\n",
    "app = mr.App(title=\"Crypto charts\", description=\"Report financial data for selected cryptocurrency.\")"
   ]
  },
  {
   "cell_type": "code",
   "execution_count": 4,
   "metadata": {},
   "outputs": [],
   "source": [
    "tickers = client.get_all_tickers()\n",
    "ticker_df = pd.DataFrame(tickers)\n",
    "ticker_df['symbol'] = ticker_df['symbol'].astype('string')\n",
    "ticker_array = np.array(ticker_df['symbol'])"
   ]
  },
  {
   "cell_type": "code",
   "execution_count": 5,
   "metadata": {},
   "outputs": [
    {
     "data": {
      "application/mercury+json": {
       "code_uid": "Text.0.40.15.1-rand24b1e17b",
       "disabled": false,
       "hidden": false,
       "label": "Enter Cryptocurrency:",
       "model_id": "a0fc7ca80ecb4531b38086c805a3b54f",
       "rows": 1,
       "url_key": "",
       "value": "BTCUSDT",
       "widget": "Text"
      },
      "application/vnd.jupyter.widget-view+json": {
       "model_id": "a0fc7ca80ecb4531b38086c805a3b54f",
       "version_major": 2,
       "version_minor": 0
      },
      "text/plain": [
       "mercury.Text"
      ]
     },
     "metadata": {},
     "output_type": "display_data"
    },
    {
     "data": {
      "application/mercury+json": {
       "choices": [
        "1 Minute",
        "3 Minutes",
        "5 Minutes",
        "15 Minutes",
        "1 Hour",
        "4 Hours",
        "12 Hours",
        "Day",
        "Week"
       ],
       "code_uid": "Select.0.40.16.5-randaec7bf53",
       "disabled": false,
       "hidden": false,
       "label": "Choose your interval",
       "model_id": "0b0cd42405924740a56ce286765c9c69",
       "url_key": "",
       "value": "15 Minutes",
       "widget": "Select"
      },
      "application/vnd.jupyter.widget-view+json": {
       "model_id": "0b0cd42405924740a56ce286765c9c69",
       "version_major": 2,
       "version_minor": 0
      },
      "text/plain": [
       "mercury.Select"
      ]
     },
     "metadata": {},
     "output_type": "display_data"
    }
   ],
   "source": [
    "entry = mr.Text(value=\"BTCUSDT\", label=\"Enter Cryptocurrency:\", rows=1)\n",
    "symbol = entry.value.upper()\n",
    "\n",
    "# add select widget\n",
    "interval_select = mr.Select(value=\"15 Minutes\", \n",
    "                    choices=['1 Minute', '3 Minutes', '5 Minutes', '15 Minutes', '1 Hour', '4 Hours', '12 Hours', 'Day', 'Week'], \n",
    "                    label=\"Choose your interval\")\n"
   ]
  },
  {
   "cell_type": "markdown",
   "metadata": {},
   "source": [
    "# Basic info"
   ]
  },
  {
   "cell_type": "code",
   "execution_count": 28,
   "metadata": {},
   "outputs": [],
   "source": [
    "time_res = client.get_server_time()\n",
    "current_time = time_res['serverTime']\n",
    "formated_time = pd.to_datetime(time_res['serverTime']/1000, unit='s')\n",
    "formated_time = formated_time.strftime(\"%H:%M\")"
   ]
  },
  {
   "cell_type": "code",
   "execution_count": 27,
   "metadata": {},
   "outputs": [
    {
     "data": {
      "text/markdown": [
       "### Server time: **13:43**"
      ],
      "text/plain": [
       "<IPython.core.display.Markdown object>"
      ]
     },
     "metadata": {},
     "output_type": "display_data"
    }
   ],
   "source": [
    "mr.Md(f\"### Server time: **{formated_time}**\")"
   ]
  },
  {
   "cell_type": "code",
   "execution_count": 8,
   "metadata": {},
   "outputs": [
    {
     "data": {
      "application/mercury+json": {
       "code_uid": "Slider.0.40.34.22-randd3b49fb3",
       "disabled": false,
       "hidden": false,
       "label": "Hours ago",
       "max": 168,
       "min": 12,
       "model_id": "90a304f33790494994f479e30d2dae32",
       "step": 1,
       "url_key": "",
       "value": 24,
       "widget": "Slider"
      },
      "application/vnd.jupyter.widget-view+json": {
       "model_id": "90a304f33790494994f479e30d2dae32",
       "version_major": 2,
       "version_minor": 0
      },
      "text/plain": [
       "mercury.Slider"
      ]
     },
     "metadata": {},
     "output_type": "display_data"
    }
   ],
   "source": [
    "interval = Client.KLINE_INTERVAL_1DAY\n",
    "interval_date = '13 Sep 2023'\n",
    "\n",
    "match interval_select.value:\n",
    "    case '1 Minute':\n",
    "        interval = Client.KLINE_INTERVAL_1MINUTE\n",
    "        time_ago = mr.Slider(value=180, min=60, max=360, label=\"Minutes ago\", step=1)\n",
    "        interval_date = str(time_ago.value) + ' minutes ago'\n",
    "\n",
    "    case '3 Minutes':\n",
    "        interval = Client.KLINE_INTERVAL_3MINUTE\n",
    "        time_ago = mr.Slider(value=360, min=180, max=720, label=\"Minutes ago\", step=3)\n",
    "        interval_date = str(time_ago.value) + ' minutes ago'\n",
    "\n",
    "    case '5 Minutes':\n",
    "        interval = Client.KLINE_INTERVAL_5MINUTE\n",
    "        time_ago = mr.Slider(value=480, min=360, max=720, label=\"Minutes ago\", step=5)\n",
    "        interval_date = str(time_ago.value) + ' minutes ago'\n",
    "\n",
    "    case '15 Minutes':\n",
    "        interval = Client.KLINE_INTERVAL_15MINUTE\n",
    "        time_ago = mr.Slider(value=24, min=12, max=168, label=\"Hours ago\", step=1)\n",
    "        interval_date = str(date.today()-timedelta(hours=time_ago.value))\n",
    "\n",
    "    case '1 Hour':\n",
    "        interval = Client.KLINE_INTERVAL_1HOUR\n",
    "        time_ago = mr.Slider(value=120, min=12, max=240, label=\"Hours ago\", step=1)\n",
    "        interval_date = str(date.today()-timedelta(hours=time_ago.value))\n",
    "\n",
    "    case '4 Hours':\n",
    "        interval = Client.KLINE_INTERVAL_4HOUR\n",
    "        time_ago = mr.Slider(value=120, min=48, max=480, label=\"Hours ago\", step=4)\n",
    "        interval_date = str(date.today()-timedelta(hours=time_ago.value))\n",
    "        \n",
    "    case '12 Hours':\n",
    "        interval = Client.KLINE_INTERVAL_12HOUR\n",
    "        time_ago = mr.Slider(value=25, min=10, max=50, label=\"Days ago\", step=1)\n",
    "        interval_date = str(date.today()-timedelta(days=time_ago.value))\n",
    "    case 'Day':\n",
    "        interval = Client.KLINE_INTERVAL_1DAY\n",
    "        time_ago = mr.Slider(value=50, min=10, max=200, label=\"Days ago\", step=5)\n",
    "        interval_date = str(date.today()-timedelta(days=time_ago.value))\n",
    "\n",
    "    case 'Week':\n",
    "        interval = Client.KLINE_INTERVAL_1WEEK\n",
    "        time_ago = mr.Slider(value=50, min=5, max=200, label=\"Weeks ago\", step=5)\n",
    "        interval_date = str(date.today()-timedelta(days=7*time_ago.value))\n",
    "\n"
   ]
  },
  {
   "cell_type": "code",
   "execution_count": 9,
   "metadata": {},
   "outputs": [
    {
     "data": {
      "application/mercury+json": {
       "code_uid": "Checkbox.0.40.11.1-randaf698440",
       "disabled": false,
       "hidden": false,
       "label": "Volume",
       "model_id": "a4ac50e1d5a043dea8a96035c5584ec4",
       "url_key": "",
       "value": true,
       "widget": "Checkbox"
      },
      "application/vnd.jupyter.widget-view+json": {
       "model_id": "a4ac50e1d5a043dea8a96035c5584ec4",
       "version_major": 2,
       "version_minor": 0
      },
      "text/plain": [
       "mercury.Checkbox"
      ]
     },
     "metadata": {},
     "output_type": "display_data"
    }
   ],
   "source": [
    "volume_bool = mr.Checkbox(value=True, label=\"Volume\")"
   ]
  },
  {
   "cell_type": "code",
   "execution_count": 10,
   "metadata": {},
   "outputs": [],
   "source": [
    "try:\n",
    "    error = False\n",
    "    if not symbol:\n",
    "        error = True\n",
    "        raise ValueError(\"Don't leave blank space\")\n",
    "    elif symbol not in ticker_array:\n",
    "        error = True\n",
    "        raise ValueError(\"Somethink gone wrong. Check your entry name.\")\n",
    "    \n",
    "    hist = client.get_historical_klines(symbol, interval, interval_date)\n",
    "\n",
    "    histdf = pd.DataFrame(hist)\n",
    "\n",
    "    histdf = histdf.drop(columns=[6, 7, 8, 9, 10, 11])\n",
    "\n",
    "    histdf.columns=['Date', 'Open', 'High', 'Low', 'Close', 'Volume']\n",
    "\n",
    "    histdf['Date'] = pd.to_datetime(histdf['Date']/1000, unit='s')\n",
    "\n",
    "    histdf.set_index(histdf['Date'], inplace=True)\n",
    "\n",
    "    histdf = histdf.drop(columns=['Date'])\n",
    "\n",
    "    numeric_cols=['Open', 'High', 'Low', 'Close', 'Volume']\n",
    "    histdf[numeric_cols] = histdf[numeric_cols].apply(pd.to_numeric, axis=1)\n",
    "\n",
    "    mean_price = round((histdf.Open.mean()+histdf.Close.mean())/2,1)\n",
    "\n",
    "except ValueError as e:\n",
    "    mr.Md(f\"### **{e}**\")"
   ]
  },
  {
   "cell_type": "code",
   "execution_count": 11,
   "metadata": {},
   "outputs": [
    {
     "data": {
      "text/html": [
       "<style scoped>\n",
       "        .numberbox-container {\n",
       "        width: 100%;\n",
       "        display: flex;\n",
       "        flex-direction: row;\n",
       "        }\n",
       "        @media (max-width: 800px) {\n",
       "        .numberbox-container {\n",
       "            flex-direction: column;\n",
       "        }\n",
       "        }\n",
       "        </style><div class=\"numberbox-container\" style=\"display: flex; background: #fff;\">\n",
       "<div style=\"text-align: center; width: 100%; border: 1px solid lightgray; margin-right: 0px; margin-top: 15px; padding-top: 40px; padding-bottom: 30px; background: white; border-radius:5px\">\n",
       "  <span style=\"font-size: 4em; color: black; font-family: monospace; \">26,179.81</span>\n",
       "  \n",
       "  <span style=\"font-size: 2em; color: gray; display: block; padding-top: 20px; font-family: monospace; line-height: 1.3em;\">Current close price</span>\n",
       "</div>\n",
       "  </div>"
      ],
      "text/plain": [
       "<widgets.numberbox.NumberBox at 0x1f0b832e0d0>"
      ]
     },
     "execution_count": 11,
     "metadata": {},
     "output_type": "execute_result"
    }
   ],
   "source": [
    "mr.NumberBox([\n",
    "    mr.NumberBox(data=histdf['Close'].iloc[-1], title=f\"Current close price\"),\n",
    "    ])"
   ]
  },
  {
   "cell_type": "code",
   "execution_count": 12,
   "metadata": {},
   "outputs": [
    {
     "data": {
      "text/html": [
       "<style scoped>\n",
       "        .numberbox-container {\n",
       "        width: 100%;\n",
       "        display: flex;\n",
       "        flex-direction: row;\n",
       "        }\n",
       "        @media (max-width: 800px) {\n",
       "        .numberbox-container {\n",
       "            flex-direction: column;\n",
       "        }\n",
       "        }\n",
       "        </style><div class=\"numberbox-container\" style=\"display: flex; background: #fff;\">\n",
       "<div style=\"text-align: center; width: 100%; border: 1px solid lightgray; margin-right: 15px; margin-top: 15px; padding-top: 40px; padding-bottom: 30px; background: white; border-radius:5px\">\n",
       "  <span style=\"font-size: 4em; color: black; font-family: monospace; \">26,567.0</span>\n",
       "  \n",
       "  <span style=\"font-size: 2em; color: gray; display: block; padding-top: 20px; font-family: monospace; line-height: 1.3em;\">Highest price</span>\n",
       "</div>\n",
       "  \n",
       "<div style=\"text-align: center; width: 100%; border: 1px solid lightgray; margin-right: 15px; margin-top: 15px; padding-top: 40px; padding-bottom: 30px; background: white; border-radius:5px\">\n",
       "  <span style=\"font-size: 4em; color: black; font-family: monospace; \">25,918.2</span>\n",
       "  \n",
       "  <span style=\"font-size: 2em; color: gray; display: block; padding-top: 20px; font-family: monospace; line-height: 1.3em;\">Mean price</span>\n",
       "</div>\n",
       "  \n",
       "<div style=\"text-align: center; width: 100%; border: 1px solid lightgray; margin-right: 0px; margin-top: 15px; padding-top: 40px; padding-bottom: 30px; background: white; border-radius:5px\">\n",
       "  <span style=\"font-size: 4em; color: black; font-family: monospace; \">25,131.5</span>\n",
       "  \n",
       "  <span style=\"font-size: 2em; color: gray; display: block; padding-top: 20px; font-family: monospace; line-height: 1.3em;\">Lowest price</span>\n",
       "</div>\n",
       "  </div>"
      ],
      "text/plain": [
       "<widgets.numberbox.NumberBox at 0x1f0b83b3110>"
      ]
     },
     "execution_count": 12,
     "metadata": {},
     "output_type": "execute_result"
    }
   ],
   "source": [
    "# if not error:\n",
    "\n",
    "mr.NumberBox([\n",
    "    mr.NumberBox(data=histdf.High.max().round(1), title=f\"Highest price\"),\n",
    "    mr.NumberBox(data=mean_price, title=f\"Mean price\"),\n",
    "    mr.NumberBox(data=histdf.Low.min().round(1), title=f\"Lowest price\")\n",
    "    ])\n"
   ]
  },
  {
   "cell_type": "markdown",
   "metadata": {},
   "source": [
    "## 📈 Chart 📈"
   ]
  },
  {
   "cell_type": "code",
   "execution_count": 13,
   "metadata": {},
   "outputs": [
    {
     "data": {
      "application/mercury+json": {
       "choices": [
        "candle",
        "line"
       ],
       "code_uid": "Select.0.40.16.1-rand8a661dbc",
       "disabled": false,
       "hidden": false,
       "label": "Chart type:",
       "model_id": "d11e64043144479ca2454de98c83aaa8",
       "url_key": "",
       "value": "candle",
       "widget": "Select"
      },
      "application/vnd.jupyter.widget-view+json": {
       "model_id": "d11e64043144479ca2454de98c83aaa8",
       "version_major": 2,
       "version_minor": 0
      },
      "text/plain": [
       "mercury.Select"
      ]
     },
     "metadata": {},
     "output_type": "display_data"
    },
    {
     "data": {
      "image/png": "[encoded data removed]",
      "text/plain": [
       "<Figure size 2000x1000 with 4 Axes>"
      ]
     },
     "metadata": {},
     "output_type": "display_data"
    }
   ],
   "source": [
    "plot_type = mr.Select(value=\"candle\", choices=['candle', 'line'], label=\"Chart type:\")\n",
    "color = 'blue'\n",
    "\n",
    "if plot_type.value == 'line':\n",
    "    color_select = mr.Select(value=\"blue\", choices=['blue', 'red', 'green', 'black', 'purple'], label=\"Chart type:\")\n",
    "    color = color_select.value\n",
    "\n",
    "if not error:\n",
    "    mpl.plot(histdf, type=plot_type.value, volume=volume_bool.value, linecolor=color, ylabel='Price in $', style='charles', figsize=(20,10), warn_too_much_data=1000)"
   ]
  },
  {
   "cell_type": "code",
   "execution_count": null,
   "metadata": {},
   "outputs": [],
   "source": []
  }
 ],
 "metadata": {
  "kernelspec": {
   "display_name": "Python 3",
   "language": "python",
   "name": "python3"
  },
  "language_info": {
   "codemirror_mode": {
    "name": "ipython",
    "version": 3
   },
   "file_extension": ".py",
   "mimetype": "text/x-python",
   "name": "python",
   "nbconvert_exporter": "python",
   "pygments_lexer": "ipython3",
   "version": "3.11.5"
  },
  "orig_nbformat": 4
 },
 "nbformat": 4,
 "nbformat_minor": 2
}
