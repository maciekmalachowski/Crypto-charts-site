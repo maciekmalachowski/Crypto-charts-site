{
 "cells": [
  {
   "cell_type": "code",
   "execution_count": 2,
   "metadata": {},
   "outputs": [],
   "source": [
    "from binance import Client\n",
    "import pandas as pd\n",
    "import numpy as np\n",
    "import mplfinance as mpl\n",
    "import mercury as mr\n",
    "from datetime import date\n",
    "import os\n",
    "api_key = os.environ.get('api_key')\n",
    "secret_key = os.environ.get('secret_key')\n"
   ]
  },
  {
   "cell_type": "code",
   "execution_count": 2,
   "metadata": {},
   "outputs": [
    {
     "data": {
      "application/mercury+json": {
       "allow_download": true,
       "code_uid": "App.0.40.25.2-rand5fb37859",
       "continuous_update": true,
       "description": "Report financial data for selected cryptocurrency.",
       "full_screen": true,
       "model_id": "mercury-app",
       "notify": "{}",
       "output": "app",
       "schedule": "",
       "show_code": false,
       "show_prompt": false,
       "show_sidebar": true,
       "static_notebook": false,
       "stop_on_error": false,
       "title": "Crypto charts",
       "widget": "App"
      },
      "text/html": [
       "<h3>Mercury Application</h3><small>This output won't appear in the web app.</small>"
      ],
      "text/plain": [
       "mercury.App"
      ]
     },
     "metadata": {},
     "output_type": "display_data"
    }
   ],
   "source": [
    "client = Client(api_key, secret_key, tld='us')\n",
    "app = mr.App(title=\"Crypto charts\", description=\"Report financial data for selected cryptocurrency.\")"
   ]
  },
  {
   "cell_type": "code",
   "execution_count": 3,
   "metadata": {},
   "outputs": [],
   "source": [
    "tickers = client.get_all_tickers()\n",
    "ticker_df = pd.DataFrame(tickers)\n",
    "ticker_df['symbol'] = ticker_df['symbol'].astype('string')\n",
    "ticker_array = np.array(ticker_df['symbol'])"
   ]
  },
  {
   "cell_type": "code",
   "execution_count": 4,
   "metadata": {},
   "outputs": [
    {
     "data": {
      "application/mercury+json": {
       "code_uid": "Text.0.40.15.1-rand5b33c5ed",
       "disabled": false,
       "hidden": false,
       "label": "Enter Cryptocurrency:",
       "model_id": "4edf1bc05aa5419894704eda3171260b",
       "rows": 1,
       "url_key": "",
       "value": "BTCUSDT",
       "widget": "Text"
      },
      "application/vnd.jupyter.widget-view+json": {
       "model_id": "4edf1bc05aa5419894704eda3171260b",
       "version_major": 2,
       "version_minor": 0
      },
      "text/plain": [
       "mercury.Text"
      ]
     },
     "metadata": {},
     "output_type": "display_data"
    },
    {
     "data": {
      "application/mercury+json": {
       "choices": [
        "1 Minute",
        "3 Minutes",
        "5 Minutes",
        "15 Minutes",
        "1 Hour",
        "4 Hours",
        "12 Hours",
        "Day",
        "Week"
       ],
       "code_uid": "Select.0.40.16.5-rand4f79accd",
       "disabled": false,
       "hidden": false,
       "label": "Choose your interval",
       "model_id": "1abcf4c26a39486e9a2625072239ebc0",
       "url_key": "",
       "value": "15 Minutes",
       "widget": "Select"
      },
      "application/vnd.jupyter.widget-view+json": {
       "model_id": "1abcf4c26a39486e9a2625072239ebc0",
       "version_major": 2,
       "version_minor": 0
      },
      "text/plain": [
       "mercury.Select"
      ]
     },
     "metadata": {},
     "output_type": "display_data"
    }
   ],
   "source": [
    "crypto_input = mr.Text(value=\"BTCUSDT\", label=\"Enter Cryptocurrency:\", rows=1)\n",
    "symbol = crypto_input.value.upper()\n",
    "\n",
    "interval_select = mr.Select(value=\"15 Minutes\", \n",
    "                    choices=['1 Minute', '3 Minutes', '5 Minutes', '15 Minutes', '1 Hour', '4 Hours', '12 Hours', 'Day', 'Week'], \n",
    "                    label=\"Choose your interval\")\n"
   ]
  },
  {
   "cell_type": "markdown",
   "metadata": {},
   "source": [
    "# Basic info ✨"
   ]
  },
  {
   "cell_type": "code",
   "execution_count": 5,
   "metadata": {},
   "outputs": [],
   "source": [
    "time_res = client.get_server_time()\n",
    "current_time = time_res['serverTime']\n",
    "formated_server_time = pd.to_datetime(time_res['serverTime']/1000, unit='s')\n",
    "formated_server_time = formated_server_time.strftime(\"%H:%M\")"
   ]
  },
  {
   "cell_type": "code",
   "execution_count": 6,
   "metadata": {},
   "outputs": [
    {
     "data": {
      "text/markdown": [
       "### Server time: **09:31**"
      ],
      "text/plain": [
       "<IPython.core.display.Markdown object>"
      ]
     },
     "metadata": {},
     "output_type": "display_data"
    }
   ],
   "source": [
    "mr.Md(f\"### Server time: **{formated_server_time}**\")"
   ]
  },
  {
   "cell_type": "code",
   "execution_count": 15,
   "metadata": {},
   "outputs": [
    {
     "data": {
      "application/mercury+json": {
       "code_uid": "Slider.0.40.34.22-rand15ef8f76",
       "disabled": false,
       "hidden": false,
       "label": "Hours ago",
       "max": 168,
       "min": 12,
       "model_id": "ec46283474694e5c9e5ba0313a84bdfd",
       "step": 1,
       "url_key": "",
       "value": 24,
       "widget": "Slider"
      },
      "application/vnd.jupyter.widget-view+json": {
       "model_id": "ec46283474694e5c9e5ba0313a84bdfd",
       "version_major": 2,
       "version_minor": 0
      },
      "text/plain": [
       "mercury.Slider"
      ]
     },
     "metadata": {},
     "output_type": "display_data"
    }
   ],
   "source": [
    "interval = Client.KLINE_INTERVAL_1DAY\n",
    "interval_date = str(date.today())\n",
    "\n",
    "if interval_select.value == '1 Minute':\n",
    "    interval = Client.KLINE_INTERVAL_1MINUTE\n",
    "    time_ago = mr.Slider(value=180, min=60, max=360, label=\"Minutes ago\", step=1)\n",
    "    interval_date = str(time_ago.value) + ' minutes ago'\n",
    "\n",
    "elif interval_select.value == '3 Minutes':\n",
    "    interval = Client.KLINE_INTERVAL_3MINUTE\n",
    "    time_ago = mr.Slider(value=360, min=180, max=720, label=\"Minutes ago\", step=3)\n",
    "    interval_date = str(time_ago.value) + ' minutes ago'\n",
    "\n",
    "elif interval_select.value == '5 Minutes':\n",
    "    interval = Client.KLINE_INTERVAL_5MINUTE\n",
    "    time_ago = mr.Slider(value=480, min=360, max=720, label=\"Minutes ago\", step=5)\n",
    "    interval_date = str(time_ago.value) + ' minutes ago'\n",
    "\n",
    "elif interval_select.value == '15 Minutes':\n",
    "    interval = Client.KLINE_INTERVAL_15MINUTE\n",
    "    time_ago = mr.Slider(value=24, min=12, max=168, label=\"Hours ago\", step=1)\n",
    "    interval_date = str(time_ago.value) + ' hours ago'\n",
    "\n",
    "elif interval_select.value == '1 Hour':\n",
    "    interval = Client.KLINE_INTERVAL_1HOUR\n",
    "    time_ago = mr.Slider(value=120, min=12, max=240, label=\"Hours ago\", step=1)\n",
    "    interval_date = str(time_ago.value) + ' hours ago'\n",
    "\n",
    "elif interval_select.value == '4 Hours':\n",
    "    interval = Client.KLINE_INTERVAL_4HOUR\n",
    "    time_ago = mr.Slider(value=120, min=48, max=480, label=\"Hours ago\", step=4)\n",
    "    interval_date = str(time_ago.value) + ' hours ago'\n",
    "        \n",
    "elif interval_select.value == '12 Hours':\n",
    "    interval = Client.KLINE_INTERVAL_12HOUR\n",
    "    time_ago = mr.Slider(value=50, min=10, max=100, label=\"Days ago\", step=1)\n",
    "    interval_date = str(time_ago.value) + ' days ago'\n",
    "    \n",
    "elif interval_select.value == 'Day':\n",
    "    interval = Client.KLINE_INTERVAL_1DAY\n",
    "    time_ago = mr.Slider(value=50, min=10, max=200, label=\"Days ago\", step=5)\n",
    "    interval_date = str(time_ago.value) + ' days ago'\n",
    "\n",
    "elif interval_select.value == 'Week':\n",
    "    interval = Client.KLINE_INTERVAL_1WEEK\n",
    "    time_ago = mr.Slider(value=50, min=5, max=200, label=\"Weeks ago\", step=5)\n",
    "    interval_date = str(time_ago.value) + ' weeks ago'\n",
    "\n"
   ]
  },
  {
   "cell_type": "code",
   "execution_count": 16,
   "metadata": {},
   "outputs": [
    {
     "data": {
      "application/mercury+json": {
       "code_uid": "Checkbox.0.40.11.1-rand509bc6b6",
       "disabled": false,
       "hidden": false,
       "label": "Volume",
       "model_id": "866b0578e1bb46c9844d58e0c3b0a8c4",
       "url_key": "",
       "value": true,
       "widget": "Checkbox"
      },
      "application/vnd.jupyter.widget-view+json": {
       "model_id": "866b0578e1bb46c9844d58e0c3b0a8c4",
       "version_major": 2,
       "version_minor": 0
      },
      "text/plain": [
       "mercury.Checkbox"
      ]
     },
     "metadata": {},
     "output_type": "display_data"
    }
   ],
   "source": [
    "volume_bool = mr.Checkbox(value=True, label=\"Volume\")"
   ]
  },
  {
   "cell_type": "code",
   "execution_count": 9,
   "metadata": {},
   "outputs": [],
   "source": [
    "try:\n",
    "    error = False\n",
    "    if not symbol:\n",
    "        error = True\n",
    "        raise ValueError(\"Don't leave blank space\")\n",
    "    elif symbol not in ticker_array:\n",
    "        error = True\n",
    "        raise ValueError(\"Somethink gone wrong. Check your entry.\")\n",
    "    \n",
    "    hist = client.get_historical_klines(symbol, interval, interval_date)\n",
    "\n",
    "    histdf = pd.DataFrame(hist)\n",
    "\n",
    "    histdf = histdf.drop(columns=[6, 7, 8, 9, 10, 11])\n",
    "\n",
    "    histdf.columns=['Date', 'Open', 'High', 'Low', 'Close', 'Volume']\n",
    "\n",
    "    histdf['Date'] = pd.to_datetime(histdf['Date']/1000, unit='s')\n",
    "\n",
    "    histdf.set_index(histdf['Date'], inplace=True)\n",
    "\n",
    "    histdf = histdf.drop(columns=['Date'])\n",
    "\n",
    "    numeric_cols=['Open', 'High', 'Low', 'Close', 'Volume']\n",
    "    histdf[numeric_cols] = histdf[numeric_cols].apply(pd.to_numeric, axis=1)\n",
    "\n",
    "    mean_price = round((histdf.Open.mean()+histdf.Close.mean())/2,1)\n",
    "\n",
    "except ValueError as e:\n",
    "    mr.Md(f\"### **{e}**\")"
   ]
  },
  {
   "cell_type": "code",
   "execution_count": 10,
   "metadata": {},
   "outputs": [
    {
     "data": {
      "text/markdown": [
       "#<center>**BTCUSDT**</center>"
      ],
      "text/plain": [
       "<IPython.core.display.Markdown object>"
      ]
     },
     "metadata": {},
     "output_type": "display_data"
    }
   ],
   "source": [
    "if not error:\n",
    "    mr.Md(f\"#<center>**{symbol}**</center>\")"
   ]
  },
  {
   "cell_type": "code",
   "execution_count": 11,
   "metadata": {},
   "outputs": [
    {
     "data": {
      "text/html": [
       "\n",
       "<div style=\"text-align: center; width: 100%; border: 1px solid lightgray; margin-right: 0px; margin-top: 15px; padding-top: 40px; padding-bottom: 30px; background: #FCEADE; border-radius:5px\">\n",
       "  <span style=\"font-size: 4em; color: black; font-family: monospace; \">26,594.99</span>\n",
       "  \n",
       "  <span style=\"font-size: 2em; color: gray; display: block; padding-top: 20px; font-family: monospace; line-height: 1.3em;\">Current close price</span>\n",
       "</div>\n",
       "  "
      ],
      "text/plain": [
       "<widgets.numberbox.NumberBox at 0x24653859c10>"
      ]
     },
     "execution_count": 11,
     "metadata": {},
     "output_type": "execute_result"
    }
   ],
   "source": [
    "mr.NumberBox(data=histdf['Close'].iloc[-1], \n",
    "            title=f\"Current close price\",\n",
    "            background_color=\"#FCEADE\")\n"
   ]
  },
  {
   "cell_type": "code",
   "execution_count": 12,
   "metadata": {},
   "outputs": [
    {
     "data": {
      "text/html": [
       "<style scoped>\n",
       "        .numberbox-container {\n",
       "        width: 100%;\n",
       "        display: flex;\n",
       "        flex-direction: row;\n",
       "        }\n",
       "        @media (max-width: 800px) {\n",
       "        .numberbox-container {\n",
       "            flex-direction: column;\n",
       "        }\n",
       "        }\n",
       "        </style><div class=\"numberbox-container\" style=\"display: flex; background: #fff;\">\n",
       "<div style=\"text-align: center; width: 100%; border: 1px solid lightgray; margin-right: 15px; margin-top: 15px; padding-top: 40px; padding-bottom: 30px; background: #FEF5EF; border-radius:5px\">\n",
       "  <span style=\"font-size: 4em; color: black; font-family: monospace; \">26,814.9</span>\n",
       "  \n",
       "  <span style=\"font-size: 2em; color: gray; display: block; padding-top: 20px; font-family: monospace; line-height: 1.3em;\">Highest price</span>\n",
       "</div>\n",
       "  \n",
       "<div style=\"text-align: center; width: 100%; border: 1px solid lightgray; margin-right: 15px; margin-top: 15px; padding-top: 40px; padding-bottom: 30px; background: #FEF5EF; border-radius:5px\">\n",
       "  <span style=\"font-size: 4em; color: black; font-family: monospace; \">26,567.4</span>\n",
       "  \n",
       "  <span style=\"font-size: 2em; color: gray; display: block; padding-top: 20px; font-family: monospace; line-height: 1.3em;\">Mean price</span>\n",
       "</div>\n",
       "  \n",
       "<div style=\"text-align: center; width: 100%; border: 1px solid lightgray; margin-right: 0px; margin-top: 15px; padding-top: 40px; padding-bottom: 30px; background: #FEF5EF; border-radius:5px\">\n",
       "  <span style=\"font-size: 4em; color: black; font-family: monospace; \">26,269.2</span>\n",
       "  \n",
       "  <span style=\"font-size: 2em; color: gray; display: block; padding-top: 20px; font-family: monospace; line-height: 1.3em;\">Lowest price</span>\n",
       "</div>\n",
       "  </div>"
      ],
      "text/plain": [
       "<widgets.numberbox.NumberBox at 0x2465dd24090>"
      ]
     },
     "execution_count": 12,
     "metadata": {},
     "output_type": "execute_result"
    }
   ],
   "source": [
    "mr.NumberBox([\n",
    "        mr.NumberBox(data=histdf.High.max().round(1), title=f\"Highest price\", background_color=\"#FEF5EF\"),\n",
    "        mr.NumberBox(data=mean_price, title=f\"Mean price\", background_color=\"#FEF5EF\"),\n",
    "        mr.NumberBox(data=histdf.Low.min().round(1), title=f\"Lowest price\", background_color=\"#FEF5EF\")\n",
    "        ])\n"
   ]
  },
  {
   "cell_type": "code",
   "execution_count": 13,
   "metadata": {},
   "outputs": [
    {
     "data": {
      "text/markdown": [
       "# 📈Chart📈"
      ],
      "text/plain": [
       "<IPython.core.display.Markdown object>"
      ]
     },
     "metadata": {},
     "output_type": "display_data"
    }
   ],
   "source": [
    "if not error:\n",
    "    mr.Md(\"# 📈Chart📈\")"
   ]
  },
  {
   "cell_type": "code",
   "execution_count": 14,
   "metadata": {},
   "outputs": [
    {
     "data": {
      "application/mercury+json": {
       "choices": [
        "candle",
        "line"
       ],
       "code_uid": "Select.0.40.16.1-randbf8ee086",
       "disabled": false,
       "hidden": false,
       "label": "Chart type:",
       "model_id": "6489168c8950415898a979383579be36",
       "url_key": "",
       "value": "candle",
       "widget": "Select"
      },
      "application/vnd.jupyter.widget-view+json": {
       "model_id": "6489168c8950415898a979383579be36",
       "version_major": 2,
       "version_minor": 0
      },
      "text/plain": [
       "mercury.Select"
      ]
     },
     "metadata": {},
     "output_type": "display_data"
    },
    {
     "data": {
      "application/mercury+json": {
       "choices": [
        "classic",
        "default",
        "charles",
        "binance",
        "blueskies",
        "brasil",
        "checkers",
        "kenan",
        "ibd",
        "mike",
        "nightclouds",
        "sas",
        "starsandstripes",
        "yahoo"
       ],
       "code_uid": "Select.0.40.16.10-rande9d593c8",
       "disabled": false,
       "hidden": false,
       "label": "Candle style:",
       "model_id": "b7a293d8aefa4cd094d4dc93634231e1",
       "url_key": "",
       "value": "charles",
       "widget": "Select"
      },
      "application/vnd.jupyter.widget-view+json": {
       "model_id": "b7a293d8aefa4cd094d4dc93634231e1",
       "version_major": 2,
       "version_minor": 0
      },
      "text/plain": [
       "mercury.Select"
      ]
     },
     "metadata": {},
     "output_type": "display_data"
    },
    {
     "data": {
      "image/png": "[encoded data removed]",
      "text/plain": [
       "<Figure size 2000x1000 with 4 Axes>"
      ]
     },
     "metadata": {},
     "output_type": "display_data"
    }
   ],
   "source": [
    "plot_type = mr.Select(value=\"candle\", choices=['candle', 'line'], label=\"Chart type:\")\n",
    "candle_style = 'charles'\n",
    "color = 'blue'\n",
    "\n",
    "if plot_type.value == 'line':\n",
    "    color_select = mr.Select(value=\"blue\", choices=['blue', 'red', 'green', 'black', 'purple'], label=\"Line color:\")\n",
    "    color = color_select.value\n",
    "\n",
    "else:\n",
    "    style_select = mr.Select(value='charles', choices=['classic', 'default', 'charles', 'binance', 'blueskies', 'brasil', 'checkers', 'kenan', 'ibd', 'mike', 'nightclouds', 'sas', 'starsandstripes', 'yahoo'], label='Candle style:')\n",
    "    candle_style = style_select.value\n",
    "\n",
    "if not error:\n",
    "    mpl.plot(histdf, type=plot_type.value, volume=volume_bool.value, linecolor=color, ylabel='Price in $', style=candle_style, figsize=(20,10), warn_too_much_data=1000)"
   ]
  },
  {
   "cell_type": "code",
   "execution_count": null,
   "metadata": {},
   "outputs": [],
   "source": []
  }
 ],
 "metadata": {
  "kernelspec": {
   "display_name": "Python 3",
   "language": "python",
   "name": "python3"
  },
  "language_info": {
   "codemirror_mode": {
    "name": "ipython",
    "version": 3
   },
   "file_extension": ".py",
   "mimetype": "text/x-python",
   "name": "python",
   "nbconvert_exporter": "python",
   "pygments_lexer": "ipython3",
   "version": "3.11.5"
  },
  "orig_nbformat": 4
 },
 "nbformat": 4,
 "nbformat_minor": 2
}
